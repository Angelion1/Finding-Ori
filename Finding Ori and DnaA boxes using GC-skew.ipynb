{
 "cells": [
  {
   "cell_type": "code",
   "execution_count": 2,
   "metadata": {
    "collapsed": true
   },
   "outputs": [],
   "source": [
    "import numpy as np\n",
    "import matplotlib.pyplot as plt"
   ]
  },
  {
   "cell_type": "markdown",
   "metadata": {},
   "source": [
    "## A function which calculates the GC-Skew and returns an array of skew at all positions"
   ]
  },
  {
   "cell_type": "code",
   "execution_count": 3,
   "metadata": {
    "collapsed": true
   },
   "outputs": [],
   "source": [
    "def skew(genome):\n",
    "    skew = np.zeros(len(genome), dtype = np.int)\n",
    "    i=0\n",
    "    #loop updates skew values at each position\n",
    "    for ce in genome:\n",
    "        #initialization for first position\n",
    "        if i==0:\n",
    "            if ce == 'G':\n",
    "                skew[i] = 1\n",
    "            elif ce == 'C':\n",
    "                skew[i] = -1\n",
    "        #for positions other that 1st, we can calculate using skew value at previous position\n",
    "        elif ce == 'G':\n",
    "            skew[i] = skew[i-1] + 1\n",
    "        elif ce == 'C':\n",
    "            skew[i] = skew[i-1] - 1\n",
    "        else:\n",
    "            skew[i] = skew[i-1]\n",
    "        i+=1\n",
    "    return skew"
   ]
  },
  {
   "cell_type": "markdown",
   "metadata": {},
   "source": [
    "## To get the reverse complement of a dna sequence"
   ]
  },
  {
   "cell_type": "code",
   "execution_count": 4,
   "metadata": {
    "collapsed": true
   },
   "outputs": [],
   "source": [
    "def reverse_complement(dna):\n",
    "    #loop complements each nucleotide in the dna sequence\n",
    "    for i in range(0,len(dna)):\n",
    "        if dna[i] == 'A':\n",
    "            dna = dna[:i] + 'T' + dna[i+1:]\n",
    "        elif dna[i] == 'T':\n",
    "            dna = dna[:i] + 'A' + dna[i+1:]\n",
    "        elif dna[i] == 'C':\n",
    "            dna = dna[:i] + 'G' + dna[i+1:]\n",
    "        elif dna[i] == 'G':\n",
    "            dna = dna[:i] + 'C' + dna[i+1:]\n",
    "    #return the reverse of the complemented sequence\n",
    "    return dna[::-1]"
   ]
  },
  {
   "cell_type": "markdown",
   "metadata": {},
   "source": [
    "## Few functions used in frequency calculation of k-mers in genome"
   ]
  },
  {
   "cell_type": "code",
   "execution_count": 5,
   "metadata": {
    "collapsed": true
   },
   "outputs": [],
   "source": [
    "#converts a nucleotide pattern to corresponding index in frequency array\n",
    "def patternToNumber(seq,k):\n",
    "    #decode the nucleotides into digits\n",
    "    seq_numerical = map(decode,seq)\n",
    "    \n",
    "    #convert it into an integer\n",
    "    num = int(reduce(lambda x,y: x+str(y), seq_numerical, ''))\n",
    "    \n",
    "    #convert to base 4\n",
    "    res = 0\n",
    "    i=0\n",
    "    while num>0:\n",
    "        res+=(num%10)*4**i\n",
    "        num=num/10\n",
    "        i+=1\n",
    "    return res\n",
    "\n",
    "#performs the reverse of function above\n",
    "def numberToPattern(num,k):\n",
    "    seq_numerical = []\n",
    "    i=0\n",
    "    while num>0:\n",
    "        x = num % 4\n",
    "        seq_numerical.append(x)\n",
    "        num=num/4\n",
    "    i=len(seq_numerical)\n",
    "    while i<k:\n",
    "        seq_numerical.append(0)\n",
    "        i+=1\n",
    "    seq_numerical = seq_numerical[::-1]\n",
    "    seq_numerical = map(encode, seq_numerical)\n",
    "    seq = reduce(lambda x,y: x+str(y), seq_numerical, '')\n",
    "    return seq\n",
    "\n",
    "#maps each of the digit in base 4 to its corresponding nucleotide which are in lexographic order\n",
    "def encode(x):\n",
    "    if x == 0:\n",
    "        x = 'A'\n",
    "    elif x == 1:\n",
    "        x = 'C'\n",
    "    elif x == 2:\n",
    "        x = 'G'\n",
    "    elif x == 3:\n",
    "        x = 'T'\n",
    "    return x\n",
    "\n",
    "#maps each of the nucleotide to its corresponding digit in base 4 in lexographic order\n",
    "def decode(x):\n",
    "    if x == 'A':\n",
    "        x = '0'\n",
    "    elif x == 'C':\n",
    "        x = '1'\n",
    "    elif x == 'G':\n",
    "        x = '2'\n",
    "    elif x == 'T':\n",
    "        x = '3'\n",
    "    return x"
   ]
  },
  {
   "cell_type": "markdown",
   "metadata": {},
   "source": [
    "## Calculates the number of mismatches between two dna sequences"
   ]
  },
  {
   "cell_type": "code",
   "execution_count": 6,
   "metadata": {
    "collapsed": true
   },
   "outputs": [],
   "source": [
    "def hamming_dist(u,v):\n",
    "    ct=0\n",
    "    x=0\n",
    "    while x<len(u):\n",
    "        if u[x] != v[x]:\n",
    "            ct+=1\n",
    "        x+=1\n",
    "    return ct"
   ]
  },
  {
   "cell_type": "markdown",
   "metadata": {},
   "source": [
    "### Function which returns a set of patterns which are within 'd' hamming-distance of a pattern"
   ]
  },
  {
   "cell_type": "code",
   "execution_count": 7,
   "metadata": {
    "collapsed": true
   },
   "outputs": [],
   "source": [
    "def neighbours(pattern,d):\n",
    "    if d == 0:\n",
    "        return {pattern}\n",
    "    elif len(pattern) == 1:\n",
    "        return {'A','C','G','T'}\n",
    "    res = set()\n",
    "    \n",
    "    #use recursion to get the neighbours of smaller patterns\n",
    "    suffix_neighbours = neighbours(pattern[1:],d)\n",
    "    \n",
    "    #use these neighbours to calculate the neighbours of current pattern\n",
    "    for sn in suffix_neighbours:\n",
    "        if hamming_dist(sn,pattern[1:]) < d:\n",
    "                res.add('A'+sn)\n",
    "                res.add('C'+sn)\n",
    "                res.add('G'+sn)\n",
    "                res.add('T'+sn)\n",
    "        else:\n",
    "            res.add(pattern[0]+sn)\n",
    "    return res"
   ]
  },
  {
   "cell_type": "markdown",
   "metadata": {},
   "source": [
    "### Returns the frequency array of k-mers; frequency inlcudes neighbours(within d mismatches) and also includes the reverse complements in the frequency"
   ]
  },
  {
   "cell_type": "code",
   "execution_count": 8,
   "metadata": {
    "collapsed": true
   },
   "outputs": [],
   "source": [
    "def freqWithMismatch(genome,k,d):\n",
    "    freq = np.zeros(4**k,dtype=np.int)\n",
    "    \n",
    "    #loop through all k-mers present in the genome\n",
    "    i=0\n",
    "    while i<=len(genome)-k:\n",
    "        cp = genome[i:i+k] #the pattern that is actually present\n",
    "        cp_rc = reverse_complement(cp) #including the reverse_complement of the pattern\n",
    "        \n",
    "        #Also including the nbrs of both the pattern and its reverse complement\n",
    "        nbr = neighbours(cp,d)\n",
    "        nbrc = neighbours(cp_rc,d)\n",
    "        \n",
    "        #incrementing frequencies of all the patterns selected above\n",
    "        for cn in nbr:\n",
    "            index = patternToNumber(cn,k)\n",
    "            freq[index]+=1\n",
    "        for cn in nbrc:\n",
    "            index = patternToNumber(cn,k)\n",
    "            freq[index]+=1\n",
    "        i+=1\n",
    "    return freq"
   ]
  },
  {
   "cell_type": "markdown",
   "metadata": {},
   "source": [
    "## Reading the genome and removing any NaN,noise and garbage values from the data"
   ]
  },
  {
   "cell_type": "code",
   "execution_count": 9,
   "metadata": {
    "collapsed": true
   },
   "outputs": [],
   "source": [
    "f = open(\"Salmonella_enterica.txt\")\n",
    "genome = f.read()\n",
    "genome = [x for x in genome if x in ['A','C','G','T']]\n",
    "genome = ''.join(str(e) for e in genome)"
   ]
  },
  {
   "cell_type": "markdown",
   "metadata": {},
   "source": [
    "## Plotting the skew and calculating the position which minimizes the skew"
   ]
  },
  {
   "cell_type": "code",
   "execution_count": 10,
   "metadata": {
    "collapsed": false
   },
   "outputs": [
    {
     "data": {
      "image/png": "[encoded data removed]",
      "text/plain": [
       "<matplotlib.figure.Figure at 0x7bae278>"
      ]
     },
     "metadata": {},
     "output_type": "display_data"
    }
   ],
   "source": [
    "skew = skew(genome)\n",
    "plt.plot(skew)\n",
    "plt.show()\n",
    "min_indices = np.where(skew == skew.min())"
   ]
  },
  {
   "cell_type": "markdown",
   "metadata": {},
   "source": [
    "## The ori is believed to be within 1000 positions of the minimum skew position"
   ]
  },
  {
   "cell_type": "code",
   "execution_count": 11,
   "metadata": {
    "collapsed": true
   },
   "outputs": [],
   "source": [
    "min_index = int(min_indices[0][0]) - 500\n",
    "ori = genome[min_index:min_index+1000]"
   ]
  },
  {
   "cell_type": "markdown",
   "metadata": {},
   "source": [
    "## We consider DnaA boxes to be 9-mers and also within 1 mismatch"
   ]
  },
  {
   "cell_type": "code",
   "execution_count": 12,
   "metadata": {
    "collapsed": true
   },
   "outputs": [],
   "source": [
    "k=9\n",
    "d=1"
   ]
  },
  {
   "cell_type": "markdown",
   "metadata": {},
   "source": [
    "### From the frequency array we calculate the most frequent k-mers within d mismatches in the ori. These most frequent k-mers are possible DnaA boxes for the genome where replication begins"
   ]
  },
  {
   "cell_type": "code",
   "execution_count": 16,
   "metadata": {
    "collapsed": false
   },
   "outputs": [
    {
     "name": "stdout",
     "output_type": "stream",
     "text": [
      "TGTGGATAA TTATCCACA\n"
     ]
    }
   ],
   "source": [
    "freq = freqWithMismatch(ori,k,d)\n",
    "maxFreq = 0\n",
    "for i in freq:\n",
    "    if i>= maxFreq:\n",
    "        maxFreq = i\n",
    "x=0\n",
    "ct=0\n",
    "DnaA = []\n",
    "#print the k-mers which are most frequent and thus are possible DnaA boxes\n",
    "for i in freq:\n",
    "    if i == maxFreq:\n",
    "        DnaA.append(numberToPattern(x,k))\n",
    "        ct+=1\n",
    "    x+=1\n",
    "for cd in DnaA:\n",
    "    print cd,"
   ]
  }
 ],
 "metadata": {
  "anaconda-cloud": {},
  "kernelspec": {
   "display_name": "Python [default]",
   "language": "python",
   "name": "python2"
  },
  "language_info": {
   "codemirror_mode": {
    "name": "ipython",
    "version": 2
   },
   "file_extension": ".py",
   "mimetype": "text/x-python",
   "name": "python",
   "nbconvert_exporter": "python",
   "pygments_lexer": "ipython2",
   "version": "2.7.12"
  }
 },
 "nbformat": 4,
 "nbformat_minor": 1
}
